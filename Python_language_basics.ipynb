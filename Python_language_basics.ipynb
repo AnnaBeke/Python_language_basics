{
  "nbformat": 4,
  "nbformat_minor": 0,
  "metadata": {
    "colab": {
      "name": "Untitled1.ipynb",
      "provenance": [],
      "collapsed_sections": [],
      "authorship_tag": "ABX9TyMysGMHx3OzyW2ugAXskZ2x",
      "include_colab_link": true
    },
    "kernelspec": {
      "name": "python3",
      "display_name": "Python 3"
    },
    "language_info": {
      "name": "python"
    }
  },
  "cells": [
    {
      "cell_type": "markdown",
      "metadata": {
        "id": "view-in-github",
        "colab_type": "text"
      },
      "source": [
        "<a href=\"https://colab.research.google.com/github/AnnaBeke/Python_language_basics/blob/main/Python_language_basics.ipynb\" target=\"_parent\"><img src=\"https://colab.research.google.com/assets/colab-badge.svg\" alt=\"Open In Colab\"/></a>"
      ]
    },
    {
      "cell_type": "code",
      "metadata": {
        "id": "K4GGKKwgcMMY"
      },
      "source": [
        ""
      ],
      "execution_count": null,
      "outputs": []
    },
    {
      "cell_type": "markdown",
      "metadata": {
        "id": "6vDxHKnmcPAa"
      },
      "source": [
        "#DATA TYPES\n"
      ]
    },
    {
      "cell_type": "code",
      "metadata": {
        "colab": {
          "base_uri": "https://localhost:8080/"
        },
        "id": "wZRtBzk0cYnL",
        "outputId": "20527355-5911-48a3-f17b-abfb5bb0d48b"
      },
      "source": [
        "\"Hello Pika\"\n",
        "# \"Hello Pika\" is a string/object/DATA. For Python use '' or \"\". Short str() in conversions.\n",
        "\n",
        "22\n",
        "# Numbers. For whole number use int().\n",
        "\n",
        "22.1\n",
        "# Decimal numbers- Floats. Use float() for conversions. \n",
        "\n",
        "True\n",
        "False\n",
        "# Booleans. Used to confirm something on code, yes/no. Use bool() for conversions. For Python always write True or False with capital letters.\n",
        "\n",
        "cat = 'Pika'\n",
        "# cat (in this case) is a name of VARIABLE- temporary DATA that can be changed. 'Pika' is a VALUE of the variable. If the name of variable is several words, use _ to seperate (my_cat).\n",
        "\n",
        "cat = 'Pika'\n",
        "print(cat)\n",
        "# It will print 'Pika' not cat, because cat='Pika' unless it is written ('cat')-then cat is not variable anymore but string. \n",
        "\n",
        "\n"
      ],
      "execution_count": null,
      "outputs": [
        {
          "output_type": "stream",
          "text": [
            "Pika\n"
          ],
          "name": "stdout"
        }
      ]
    },
    {
      "cell_type": "markdown",
      "metadata": {
        "id": "6YU82Vd3gR8O"
      },
      "source": [
        "# FUNCTIONS\n"
      ]
    },
    {
      "cell_type": "markdown",
      "metadata": {
        "id": "ZaQJl5UKgqjy"
      },
      "source": [
        "##Input function"
      ]
    },
    {
      "cell_type": "code",
      "metadata": {
        "colab": {
          "base_uri": "https://localhost:8080/"
        },
        "id": "LN42hgMZqUFy",
        "outputId": "693f31f5-5b97-414a-f912-84eb94ef6c62"
      },
      "source": [
        "input('Write your name: ')\n",
        "# input() is a built in function to collect manual DATA from user, like asking to input the DATA about the name,age etc.\n",
        "# input('string to be inserted here') \n",
        "\n",
        "name= input('Write your name: ')\n",
        "# This way the collected Data is made as variable and can be further used as - name   without writing all-   input('Write your name: ').\n",
        "\n",
        "print(\"Hello \" + name)\n",
        "# This way strings can be combined- the coded string + Data collected from User converted to variable. \n",
        "\n",
        "birth_year = input('Enter your birth year: ')\n",
        "# age= 2021 - birth_year\n",
        "# Python DOES NOT allow this function because the birth_year input data automatically codes as a string. To make it work, the input has to be converted to the numbers int() or float().\n",
        "\n",
        "age = 2021 - int(birth_year)\n",
        "print(age)\n",
        "\n"
      ],
      "execution_count": 4,
      "outputs": [
        {
          "output_type": "stream",
          "text": [
            "Write your name: Pika\n",
            "Write your name: Pika\n",
            "Hello Pika\n",
            "Enter your birth year: 1850\n",
            "171\n"
          ],
          "name": "stdout"
        }
      ]
    },
    {
      "cell_type": "markdown",
      "metadata": {
        "id": "_Nu0Dr9HsxNT"
      },
      "source": [
        "## Functions for objects (string)"
      ]
    },
    {
      "cell_type": "code",
      "metadata": {
        "colab": {
          "base_uri": "https://localhost:8080/"
        },
        "id": "1Mrii4FDtYDQ",
        "outputId": "cfc218a5-79da-43ec-9106-a8959ffbc631"
      },
      "source": [
        "cat = 'Pika'\n",
        "# cat is name of variable 'Pika'. 'Pika' is an object/string that has a built in capabilities/ functions.\n",
        "#cat. \n",
        "# The dot will bring up list of functions/methods I can use for the string ('Pika' in this case).\n",
        "\n",
        "print(cat.split())\n",
        "print(cat.strip())\n",
        "print(cat.upper())\n",
        "print(cat.swapcase())\n",
        "print(cat.title())\n",
        "\n",
        "cat.islower\n",
        "# function that starts with is- (islower, isnumber etc.) will check if it is True or False, and the result will show as Boolean.\n",
        "print(cat.islower())\n",
        "print(cat.isprintable())\n",
        "\n",
        "cat= \"little fluffy Pika\"\n",
        "# to change something in the string use the replace method and write ('thing you want to change','thing you want to add') after .replace function.\n",
        "print(cat.replace('little','big'))\n",
        "# This way the original string remain the same- little fluffy Pika, but prints- big fluffy Pika."
      ],
      "execution_count": 18,
      "outputs": [
        {
          "output_type": "stream",
          "text": [
            "['Pika']\n",
            "Pika\n",
            "PIKA\n",
            "pIKA\n",
            "Pika\n",
            "False\n",
            "True\n",
            "big fluffy Pika\n"
          ],
          "name": "stdout"
        }
      ]
    },
    {
      "cell_type": "markdown",
      "metadata": {
        "id": "C9CNyaBl3lzo"
      },
      "source": [
        "##Comparison operators"
      ]
    },
    {
      "cell_type": "code",
      "metadata": {
        "id": "SSzr85K23rwU"
      },
      "source": [
        "x > y\n",
        "# > greather than\n",
        "\n",
        "x >= y \n",
        "# >= greather than or equal to\n",
        "\n",
        "x < y \n",
        "# < less than\n",
        "\n",
        "x <= y \n",
        "# <= less or equal to\n",
        "\n",
        "x == y \n",
        "# == equal to\n",
        "\n",
        "x != y \n",
        "# != not equal to"
      ],
      "execution_count": null,
      "outputs": []
    },
    {
      "cell_type": "markdown",
      "metadata": {
        "id": "oQyHkrDT497K"
      },
      "source": [
        "##Logical operators"
      ]
    },
    {
      "cell_type": "code",
      "metadata": {
        "id": "5wNec1Sh5BV4"
      },
      "source": [
        "and\n",
        "# and if both expresiions are True\n",
        "\n",
        "or\n",
        "#or if at least one expression are True\n",
        "\n",
        "not\n",
        "#inverse any value from False to True/ True to False."
      ],
      "execution_count": null,
      "outputs": []
    },
    {
      "cell_type": "markdown",
      "metadata": {
        "id": "MxgOQsvl5sBh"
      },
      "source": [
        "##Functions using operators"
      ]
    },
    {
      "cell_type": "markdown",
      "metadata": {
        "id": "s6Nm1dIn8KDt"
      },
      "source": [
        "### Functions with if/elif"
      ]
    },
    {
      "cell_type": "code",
      "metadata": {
        "colab": {
          "base_uri": "https://localhost:8080/"
        },
        "id": "SB6B4LL75weN",
        "outputId": "693f74ee-d682-4f8c-f079-76cd4e2a2fd1"
      },
      "source": [
        "price = 20\n",
        "#price is variable for string 20.\n",
        "\n",
        "if price > 20:\n",
        "  print('It is expensive')\n",
        "\n",
        "if price <= 20:\n",
        "  print('its a good price')\n",
        "\n",
        "# if- makes a block of code that will only work if the conditions after 'if' are met. Always use : at the end of condition to make a block.\n",
        "# in this case price is 20 and only the second block of code will work, as the requirements in the first one are not met.\n",
        "\n",
        "elif price < 20:\n",
        "  print('its ok price')\n",
        "\n",
        "# elif is short of else if\n",
        "\n",
        "price = 30\n",
        "if price > 20:\n",
        "  print('It is expensive')\n",
        "\n",
        "if price <= 20:\n",
        "  print('its a good price')\n",
        "\n",
        "elif price < 15:\n",
        "  print('its ok price')"
      ],
      "execution_count": 24,
      "outputs": [
        {
          "output_type": "stream",
          "text": [
            "its a good price\n",
            "It is expensive\n"
          ],
          "name": "stdout"
        }
      ]
    },
    {
      "cell_type": "markdown",
      "metadata": {
        "id": "-c9_t6zh8Yiv"
      },
      "source": [
        "##Functions with definitions\n"
      ]
    },
    {
      "cell_type": "code",
      "metadata": {
        "colab": {
          "base_uri": "https://localhost:8080/"
        },
        "id": "fb8FLFFe8d5J",
        "outputId": "f5633996-deaa-4126-9cd1-28a412d1d621"
      },
      "source": [
        "#def\n",
        "# def is short of define. It's a keyword that you need to define a function (aka method).\n",
        "# All the code that you put between the def function_name(parameters) and end will be executed every time you call the function_name later.\n",
        "# simply- make a code and define it as a function and every time you use the function, all code will be running.\n",
        "# after name of each funcion you MUST include or () or (with some paramethers)\n",
        "\n",
        "def cat():\n",
        "  print('So my cat is coolest')\n",
        "\n",
        "cat()\n",
        "# To run the code (call the code), you MUST write the name of the function AND () that indicates that is is actually a function."
      ],
      "execution_count": 2,
      "outputs": [
        {
          "output_type": "stream",
          "text": [
            "So my cat is coolest\n"
          ],
          "name": "stdout"
        }
      ]
    },
    {
      "cell_type": "code",
      "metadata": {
        "colab": {
          "base_uri": "https://localhost:8080/"
        },
        "id": "TfWeLjOnA-Id",
        "outputId": "e8a93430-958a-4312-ba2f-fb522be55489"
      },
      "source": [
        "def add(num1,num2):\n",
        "  print(num1+num2)\n",
        "\n",
        "add(2,4)\n",
        "add(3,5)\n",
        "add(1028,199)\n",
        "\n",
        "# add(num1,num2)- the num1 and num2 are paramethers. When code is called out, the paramethers are added- 2 and 4 in this case, and the code runs using the paramethers given."
      ],
      "execution_count": 6,
      "outputs": [
        {
          "output_type": "stream",
          "text": [
            "6\n",
            "8\n",
            "1227\n"
          ],
          "name": "stdout"
        }
      ]
    },
    {
      "cell_type": "code",
      "metadata": {
        "colab": {
          "base_uri": "https://localhost:8080/"
        },
        "id": "bwj_ytQmCG1z",
        "outputId": "9eba4382-9cda-4f3f-c7e0-08ee5685636d"
      },
      "source": [
        "def addreturn(num1,num2):\n",
        "  return (num1+num2)\n",
        "  print('hey')\n",
        "\n",
        "\n",
        "addreturn(2,7)\n",
        "\n",
        "# the return function stops the code at that piont and does not fulfill the further functions, this is why print('hey') will not run."
      ],
      "execution_count": 9,
      "outputs": [
        {
          "output_type": "execute_result",
          "data": {
            "text/plain": [
              "9"
            ]
          },
          "metadata": {
            "tags": []
          },
          "execution_count": 9
        }
      ]
    },
    {
      "cell_type": "markdown",
      "metadata": {
        "id": "eVh5hoXZwPov"
      },
      "source": [
        "##Loops"
      ]
    },
    {
      "cell_type": "code",
      "metadata": {
        "id": "hyXOatJVwWDy"
      },
      "source": [
        "n = int(input())\n",
        "\n",
        "for i in range(0,n):\n",
        "  print(i)\n",
        "\n",
        "# To print items from range in the seperate lines use i (each item) in range (from,to), and print(i). This code will print each item in the range on the seperate line."
      ],
      "execution_count": null,
      "outputs": []
    }
  ]
}